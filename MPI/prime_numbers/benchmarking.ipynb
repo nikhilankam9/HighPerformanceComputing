{
 "cells": [
  {
   "cell_type": "code",
   "execution_count": 3,
   "metadata": {},
   "outputs": [],
   "source": [
    "import matplotlib.pyplot as plt\n",
    "import numpy as np"
   ]
  },
  {
   "cell_type": "code",
   "execution_count": 22,
   "metadata": {},
   "outputs": [
    {
     "ename": "TypeError",
     "evalue": "cannot unpack non-iterable AxesSubplot object",
     "output_type": "error",
     "traceback": [
      "\u001b[0;31m---------------------------------------------------------------------------\u001b[0m",
      "\u001b[0;31mTypeError\u001b[0m                                 Traceback (most recent call last)",
      "\u001b[1;32m/home/nikobaby/workspace/codes/high_perf_computing/MPI/prime_numbers/benchmarking.ipynb Cell 2'\u001b[0m in \u001b[0;36m<module>\u001b[0;34m\u001b[0m\n\u001b[1;32m      <a href='vscode-notebook-cell:/home/nikobaby/workspace/codes/high_perf_computing/MPI/prime_numbers/benchmarking.ipynb#ch0000001?line=8'>9</a>\u001b[0m ypoints4 \u001b[39m=\u001b[39m np\u001b[39m.\u001b[39marray([\u001b[39m0.833410\u001b[39m, \u001b[39m0.426704\u001b[39m, \u001b[39m0.315242\u001b[39m, \u001b[39m0.127623\u001b[39m])\n\u001b[1;32m     <a href='vscode-notebook-cell:/home/nikobaby/workspace/codes/high_perf_computing/MPI/prime_numbers/benchmarking.ipynb#ch0000001?line=10'>11</a>\u001b[0m plt\u001b[39m.\u001b[39mtitle(\u001b[39m'\u001b[39m\u001b[39mBenchmark seive implementations\u001b[39m\u001b[39m'\u001b[39m)\n\u001b[0;32m---> <a href='vscode-notebook-cell:/home/nikobaby/workspace/codes/high_perf_computing/MPI/prime_numbers/benchmarking.ipynb#ch0000001?line=12'>13</a>\u001b[0m fig, ax \u001b[39m=\u001b[39m plt\u001b[39m.\u001b[39msubplot()\n\u001b[1;32m     <a href='vscode-notebook-cell:/home/nikobaby/workspace/codes/high_perf_computing/MPI/prime_numbers/benchmarking.ipynb#ch0000001?line=13'>14</a>\u001b[0m ax\u001b[39m.\u001b[39mset_xlabel(\u001b[39m\"\u001b[39m\u001b[39mX_axis_title\u001b[39m\u001b[39m\"\u001b[39m)\n\u001b[1;32m     <a href='vscode-notebook-cell:/home/nikobaby/workspace/codes/high_perf_computing/MPI/prime_numbers/benchmarking.ipynb#ch0000001?line=14'>15</a>\u001b[0m ax\u001b[39m.\u001b[39mset_ylabel(\u001b[39m\"\u001b[39m\u001b[39mY_axis_title\u001b[39m\u001b[39m\"\u001b[39m)\n",
      "\u001b[0;31mTypeError\u001b[0m: cannot unpack non-iterable AxesSubplot object"
     ]
    },
    {
     "data": {
      "image/png": "[encoded data removed]",
      "text/plain": [
       "<Figure size 432x288 with 1 Axes>"
      ]
     },
     "metadata": {
      "needs_background": "light"
     },
     "output_type": "display_data"
    }
   ],
   "source": [
    "# ypoints1 = np.array([7.121486, 3.466678, 3.302563, 0.921523])\n",
    "# ypoints2 = np.array([3.531183, 1.672209, 1.615805, 0.459895])\n",
    "# ypoints3 = np.array([1.721986, 0.812992, 0.755818, 0.239177])\n",
    "# ypoints4 = np.array([0.833410, 0.426704, 0.315242, 0.127623])\n",
    "\n",
    "ypoints1 = np.array([7.121486, 3.466678, 3.302563, 0.921523])\n",
    "ypoints2 = np.array([3.531183, 1.672209, 1.615805, 0.459895])\n",
    "ypoints3 = np.array([1.721986, 0.812992, 0.755818, 0.239177])\n",
    "ypoints4 = np.array([0.833410, 0.426704, 0.315242, 0.127623])\n",
    "\n",
    "plt.title('Benchmark seive implementations')\n",
    "\n",
    "fig, ax = plt.subplot()\n",
    "ax.set_xlabel(\"X_axis_title\")\n",
    "ax.set_ylabel(\"Y_axis_title\")\n",
    "\n",
    "x1 = np.array([64, 128, 256, 512])\n",
    "y1 = np.array([7.121486, 3.531183, 1.721986, 0.833410])\n",
    "fig.plot(x1, y1, 'or-', label = 'parallel')\n",
    "# plt.plot(ypoints2, 'og-', label = 'n = 128')\n",
    "# plt.plot(ypoints3, 'ob-', label = 'n = 256')\n",
    "# plt.plot(ypoints4, 'oy-', label = 'n = 512')\n",
    "ax.legend()\n",
    "plt.show()"
   ]
  }
 ],
 "metadata": {
  "interpreter": {
   "hash": "916dbcbb3f70747c44a77c7bcd40155683ae19c65e1c03b4aa3499c5328201f1"
  },
  "kernelspec": {
   "display_name": "Python 3.8.10 64-bit",
   "language": "python",
   "name": "python3"
  },
  "language_info": {
   "codemirror_mode": {
    "name": "ipython",
    "version": 3
   },
   "file_extension": ".py",
   "mimetype": "text/x-python",
   "name": "python",
   "nbconvert_exporter": "python",
   "pygments_lexer": "ipython3",
   "version": "3.8.10"
  },
  "orig_nbformat": 4
 },
 "nbformat": 4,
 "nbformat_minor": 2
}
